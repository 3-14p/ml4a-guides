{
 "cells": [
  {
   "cell_type": "markdown",
   "metadata": {},
   "source": [
    "## reverse image search and retrieval\n",
    "\n",
    "This notebook will show you how you can use a convolutional neural network (convnet) to search through a large collection of images. Specifically, it will show you how you can retrieve a set of images which are similar to a query image, returning you its `n` nearest neighbors in terms of image content.\n",
    "\n",
    "A [second notebook](image-tsne.ipynb) will show you how you a related technique in which you can visualize your image collection with [t-SNE](https://en.wikipedia.org/wiki/T-distributed_stochastic_neighbor_embedding). \n",
    "\n",
    "### Installation and dependencies\n",
    "\n",
    "The code has a number of dependencies, which can usually be installed with `pip`. You will need:\n",
    "\n",
    " * [numpy](http://www.numpy.org/)\n",
    " * [scipy](http://scipy.org)\n",
    " * [matplotlib](http://matplotlib.org)\n",
    " * [scikit-learn](scikit-learn.org)\n",
    " * [keras](https://keras.io)\n",
    " * [h5py](http://www.h5py.org/)\n",
    " * [Pillow](https://python-pillow.org/)\n",
    "\n",
    "You should also download the weights of the VGG-16 network. You can download the file `vgg16_weights.h5` [here](https://drive.google.com/file/d/0Bz7KyqmuGsilT0J5dmRCM0ROVHc/view?usp=sharing).\n",
    "\n",
    "### Prepare dataset\n",
    "\n",
    "Finally prepare a folder of images to do the t-SNE on. If you don't have one, you may download and extract the [Caltech-101 dataset](http://www.vision.caltech.edu/Image_Datasets/Caltech101/) containing roughly 9000 images in 101 categories. To download that dataset, run the following commands inside a folder of your choosing (this notebook will assume you do so in the `data` folder of `ml4a-guides`.\n",
    "\n",
    "    wget http://www.vision.caltech.edu/Image_Datasets/Caltech101/101_ObjectCategories.tar.gz\n",
    "    tar -xvzf 101_ObjectCategories.tar.gz\n",
    "\n",
    "Now we can begin. Run the following import commands and make sure all the libraries are correctly installed and import without errors."
   ]
  },
  {
   "cell_type": "code",
   "execution_count": 1,
   "metadata": {
    "collapsed": false
   },
   "outputs": [
    {
     "name": "stderr",
     "output_type": "stream",
     "text": [
      "Using Theano backend.\n"
     ]
    }
   ],
   "source": [
    "%matplotlib inline\n",
    "import os\n",
    "import random\n",
    "import numpy as np\n",
    "import h5py\n",
    "from matplotlib.pyplot import imshow\n",
    "import matplotlib.pyplot\n",
    "from PIL import Image\n",
    "from keras.models import Sequential\n",
    "from keras.layers.core import Flatten, Dense, Dropout\n",
    "from keras.layers import Convolution2D, ZeroPadding2D, MaxPooling2D\n",
    "from keras.optimizers import SGD\n",
    "from keras import backend as K\n",
    "from sklearn.decomposition import PCA\n",
    "from scipy.spatial import distance\n",
    "from sklearn.manifold import TSNE\n",
    "\n",
    "K.set_image_dim_ordering('th')  # make sure to use theano-ordering because of the model architecture"
   ]
  },
  {
   "cell_type": "markdown",
   "metadata": {},
   "source": [
    "Now let's set the paths to all our files. Make sure `vgg_path` points to your `vgg16_weights.h5` file and images_path points to the folder of images you wish to analyze.\n",
    "\n",
    "The `num_images` variable sets how many images we wish to compute the t-SNE for. This shouldn't be higher than the number of images you have. "
   ]
  },
  {
   "cell_type": "code",
   "execution_count": 25,
   "metadata": {
    "collapsed": false
   },
   "outputs": [],
   "source": [
    "vgg_path = '../data/vgg16_weights.h5'\n",
    "images_path = '../data/101_ObjectCategories'\n",
    "num_images = 10000"
   ]
  },
  {
   "cell_type": "markdown",
   "metadata": {},
   "source": [
    "We will define two functions which we will need later. \n",
    "\n",
    "The function `get_impage(path)` will grab an image and convert it into a numpy array of the correct size for further processing. \n",
    "\n",
    "The function `VGG_16(weights_path)` will define the VGG16 neural net architecture and load the weights into it from the h5 file you downloaded earlier."
   ]
  },
  {
   "cell_type": "code",
   "execution_count": 26,
   "metadata": {
    "collapsed": true
   },
   "outputs": [],
   "source": [
    "def get_image(path):\n",
    "    img = Image.open(path)\n",
    "    if img.mode != 'RGB':\n",
    "        img = img.convert('RGB')\n",
    "    img = img.resize((224, 224), Image.ANTIALIAS)  # resize the image to fit into VGG-16\n",
    "    img = np.array(img.getdata(), np.uint8)\n",
    "    img = img.reshape(224, 224, 3).astype(np.float32)\n",
    "    img[:,:,0] -= 123.68 # subtract mean (probably unnecessary for t-SNE but good practice)\n",
    "    img[:,:,1] -= 116.779\n",
    "    img[:,:,2] -= 103.939\n",
    "    img = img.transpose((2,0,1))\n",
    "    img = np.expand_dims(img, axis=0)\n",
    "    return img\n",
    "\n",
    "def VGG_16(weights_path):\n",
    "    model = Sequential()\n",
    "    model.add(ZeroPadding2D((1,1),input_shape=(3,224,224)))\n",
    "    model.add(Convolution2D(64, 3, 3, activation='relu'))\n",
    "    model.add(ZeroPadding2D((1,1)))\n",
    "    model.add(Convolution2D(64, 3, 3, activation='relu'))\n",
    "    model.add(MaxPooling2D((2,2), strides=(2,2)))\n",
    "    model.add(ZeroPadding2D((1,1)))\n",
    "    model.add(Convolution2D(128, 3, 3, activation='relu'))\n",
    "    model.add(ZeroPadding2D((1,1)))\n",
    "    model.add(Convolution2D(128, 3, 3, activation='relu'))\n",
    "    model.add(MaxPooling2D((2,2), strides=(2,2)))\n",
    "    model.add(ZeroPadding2D((1,1)))\n",
    "    model.add(Convolution2D(256, 3, 3, activation='relu'))\n",
    "    model.add(ZeroPadding2D((1,1)))\n",
    "    model.add(Convolution2D(256, 3, 3, activation='relu'))\n",
    "    model.add(ZeroPadding2D((1,1)))\n",
    "    model.add(Convolution2D(256, 3, 3, activation='relu'))\n",
    "    model.add(MaxPooling2D((2,2), strides=(2,2)))\n",
    "    model.add(ZeroPadding2D((1,1)))\n",
    "    model.add(Convolution2D(512, 3, 3, activation='relu'))\n",
    "    model.add(ZeroPadding2D((1,1)))\n",
    "    model.add(Convolution2D(512, 3, 3, activation='relu'))\n",
    "    model.add(ZeroPadding2D((1,1)))\n",
    "    model.add(Convolution2D(512, 3, 3, activation='relu'))\n",
    "    model.add(MaxPooling2D((2,2), strides=(2,2)))\n",
    "    model.add(ZeroPadding2D((1,1)))\n",
    "    model.add(Convolution2D(512, 3, 3, activation='relu'))\n",
    "    model.add(ZeroPadding2D((1,1)))\n",
    "    model.add(Convolution2D(512, 3, 3, activation='relu'))\n",
    "    model.add(ZeroPadding2D((1,1)))\n",
    "    model.add(Convolution2D(512, 3, 3, activation='relu'))\n",
    "    model.add(MaxPooling2D((2,2), strides=(2,2)))\n",
    "    model.add(Flatten())\n",
    "    model.add(Dense(4096, activation='relu'))\n",
    "    model.add(Dropout(0.5))\n",
    "    model.add(Dense(4096, activation='relu'))\n",
    "    f = h5py.File(weights_path)\n",
    "    for k in range(f.attrs['nb_layers']):\n",
    "        if k >= len(model.layers):\n",
    "            break\n",
    "        g = f['layer_{}'.format(k)]\n",
    "        weights = [g['param_{}'.format(p)] for p in range(g.attrs['nb_params'])]\n",
    "        model.layers[k].set_weights(weights)\n",
    "    print(\"finished loading VGGNet\")\n",
    "    return model"
   ]
  },
  {
   "cell_type": "markdown",
   "metadata": {
    "collapsed": true
   },
   "source": [
    "Next, we will go ahead and load the VGG16 network and its saved weights, as well as compile it with an associated solver function (`SGD`) although in this example we won't actually use the `SGD` for anything."
   ]
  },
  {
   "cell_type": "code",
   "execution_count": 27,
   "metadata": {
    "collapsed": false,
    "scrolled": false
   },
   "outputs": [
    {
     "name": "stdout",
     "output_type": "stream",
     "text": [
      "finished loading VGGNet\n"
     ]
    }
   ],
   "source": [
    "model = VGG_16(vgg_path)\n",
    "sgd = SGD(lr=0.1, decay=1e-6, momentum=0.9, nesterov=True)\n",
    "model.compile(optimizer=sgd, loss='categorical_crossentropy')"
   ]
  },
  {
   "cell_type": "markdown",
   "metadata": {},
   "source": [
    "Next, we will load all the paths to our images into an array `images`, recursively from `image_path`.  If `num_images` < the number of images you have, it will filter out a random subsample of `num_images` images."
   ]
  },
  {
   "cell_type": "code",
   "execution_count": 28,
   "metadata": {
    "collapsed": false
   },
   "outputs": [
    {
     "name": "stdout",
     "output_type": "stream",
     "text": [
      "keeping 9144 images to analyze\n"
     ]
    }
   ],
   "source": [
    "images = [os.path.join(dp, f) for dp, dn, filenames in os.walk(images_path) for f in filenames if os.path.splitext(f)[1].lower() in ['.jpg','.png','.jpeg']]\n",
    "if num_images < len(images):\n",
    "    images = [images[i] for i in sorted(random.sample(xrange(len(images)), num_images))]\n",
    "\n",
    "print(\"keeping %d images to analyze\" % len(images))"
   ]
  },
  {
   "cell_type": "markdown",
   "metadata": {},
   "source": [
    "Now we will go through every image, and extract its activations. The activations we are interested in are those in the last fully-connected layer of a convnet that we forward pass the image through."
   ]
  },
  {
   "cell_type": "code",
   "execution_count": 29,
   "metadata": {
    "collapsed": false
   },
   "outputs": [
    {
     "name": "stdout",
     "output_type": "stream",
     "text": [
      "getting activations for 1/9144 ../data/101_ObjectCategories/accordion/image_0001.jpg\n",
      "getting activations for 101/9144 ../data/101_ObjectCategories/airplanes/image_0046.jpg\n",
      "getting activations for 201/9144 ../data/101_ObjectCategories/airplanes/image_0146.jpg\n",
      "getting activations for 301/9144 ../data/101_ObjectCategories/airplanes/image_0246.jpg\n",
      "getting activations for 401/9144 ../data/101_ObjectCategories/airplanes/image_0346.jpg\n",
      "getting activations for 501/9144 ../data/101_ObjectCategories/airplanes/image_0446.jpg\n",
      "getting activations for 601/9144 ../data/101_ObjectCategories/airplanes/image_0546.jpg\n",
      "getting activations for 701/9144 ../data/101_ObjectCategories/airplanes/image_0646.jpg\n",
      "getting activations for 801/9144 ../data/101_ObjectCategories/airplanes/image_0746.jpg\n",
      "getting activations for 901/9144 ../data/101_ObjectCategories/ant/image_0004.jpg\n",
      "getting activations for 1001/9144 ../data/101_ObjectCategories/BACKGROUND_Google/image_0062.jpg\n",
      "getting activations for 1101/9144 ../data/101_ObjectCategories/BACKGROUND_Google/image_0162.jpg\n",
      "getting activations for 1201/9144 ../data/101_ObjectCategories/BACKGROUND_Google/image_0262.jpg\n",
      "getting activations for 1301/9144 ../data/101_ObjectCategories/BACKGROUND_Google/image_0362.jpg\n",
      "getting activations for 1401/9144 ../data/101_ObjectCategories/BACKGROUND_Google/image_0462.jpg\n",
      "getting activations for 1501/9144 ../data/101_ObjectCategories/bass/image_0048.jpg\n",
      "getting activations for 1601/9144 ../data/101_ObjectCategories/bonsai/image_0015.jpg\n",
      "getting activations for 1701/9144 ../data/101_ObjectCategories/bonsai/image_0115.jpg\n",
      "getting activations for 1801/9144 ../data/101_ObjectCategories/brain/image_0087.jpg\n",
      "getting activations for 1901/9144 ../data/101_ObjectCategories/buddha/image_0046.jpg\n",
      "getting activations for 2001/9144 ../data/101_ObjectCategories/butterfly/image_0061.jpg\n",
      "getting activations for 2101/9144 ../data/101_ObjectCategories/cannon/image_0020.jpg\n",
      "getting activations for 2201/9144 ../data/101_ObjectCategories/car_side/image_0077.jpg\n",
      "getting activations for 2301/9144 ../data/101_ObjectCategories/cellphone/image_0007.jpg\n",
      "getting activations for 2401/9144 ../data/101_ObjectCategories/chair/image_0048.jpg\n",
      "getting activations for 2501/9144 ../data/101_ObjectCategories/chandelier/image_0086.jpg\n",
      "getting activations for 2601/9144 ../data/101_ObjectCategories/cougar_face/image_0032.jpg\n",
      "getting activations for 2701/9144 ../data/101_ObjectCategories/crab/image_0063.jpg\n",
      "getting activations for 2801/9144 ../data/101_ObjectCategories/crocodile/image_0020.jpg\n",
      "getting activations for 2901/9144 ../data/101_ObjectCategories/cup/image_0019.jpg\n",
      "getting activations for 3001/9144 ../data/101_ObjectCategories/dalmatian/image_0062.jpg\n",
      "getting activations for 3101/9144 ../data/101_ObjectCategories/dolphin/image_0043.jpg\n",
      "getting activations for 3201/9144 ../data/101_ObjectCategories/electric_guitar/image_0010.jpg\n",
      "getting activations for 3301/9144 ../data/101_ObjectCategories/elephant/image_0035.jpg\n",
      "getting activations for 3401/9144 ../data/101_ObjectCategories/euphonium/image_0018.jpg\n",
      "getting activations for 3501/9144 ../data/101_ObjectCategories/ewer/image_0054.jpg\n",
      "getting activations for 3601/9144 ../data/101_ObjectCategories/Faces/image_0069.jpg\n",
      "getting activations for 3701/9144 ../data/101_ObjectCategories/Faces/image_0169.jpg\n",
      "getting activations for 3801/9144 ../data/101_ObjectCategories/Faces/image_0269.jpg\n",
      "getting activations for 3901/9144 ../data/101_ObjectCategories/Faces/image_0369.jpg\n",
      "getting activations for 4001/9144 ../data/101_ObjectCategories/Faces_easy/image_0034.jpg\n",
      "getting activations for 4101/9144 ../data/101_ObjectCategories/Faces_easy/image_0134.jpg\n",
      "getting activations for 4201/9144 ../data/101_ObjectCategories/Faces_easy/image_0234.jpg\n",
      "getting activations for 4301/9144 ../data/101_ObjectCategories/Faces_easy/image_0334.jpg\n",
      "getting activations for 4401/9144 ../data/101_ObjectCategories/Faces_easy/image_0434.jpg\n",
      "getting activations for 4501/9144 ../data/101_ObjectCategories/flamingo/image_0032.jpg\n",
      "getting activations for 4601/9144 ../data/101_ObjectCategories/garfield/image_0020.jpg\n",
      "getting activations for 4701/9144 ../data/101_ObjectCategories/grand_piano/image_0001.jpg\n",
      "getting activations for 4801/9144 ../data/101_ObjectCategories/hawksbill/image_0002.jpg\n",
      "getting activations for 4901/9144 ../data/101_ObjectCategories/headphone/image_0002.jpg\n",
      "getting activations for 5001/9144 ../data/101_ObjectCategories/helicopter/image_0006.jpg\n",
      "getting activations for 5101/9144 ../data/101_ObjectCategories/ibis/image_0018.jpg\n",
      "getting activations for 5201/9144 ../data/101_ObjectCategories/joshua_tree/image_0007.jpg\n",
      "getting activations for 5301/9144 ../data/101_ObjectCategories/kangaroo/image_0043.jpg\n",
      "getting activations for 5401/9144 ../data/101_ObjectCategories/ketch/image_0057.jpg\n",
      "getting activations for 5501/9144 ../data/101_ObjectCategories/lamp/image_0043.jpg\n",
      "getting activations for 5601/9144 ../data/101_ObjectCategories/Leopards/image_0001.jpg\n",
      "getting activations for 5701/9144 ../data/101_ObjectCategories/Leopards/image_0101.jpg\n",
      "getting activations for 5801/9144 ../data/101_ObjectCategories/llama/image_0001.jpg\n",
      "getting activations for 5901/9144 ../data/101_ObjectCategories/lobster/image_0023.jpg\n",
      "getting activations for 6001/9144 ../data/101_ObjectCategories/mandolin/image_0016.jpg\n",
      "getting activations for 6101/9144 ../data/101_ObjectCategories/menorah/image_0033.jpg\n",
      "getting activations for 6201/9144 ../data/101_ObjectCategories/minaret/image_0014.jpg\n",
      "getting activations for 6301/9144 ../data/101_ObjectCategories/Motorbikes/image_0038.jpg\n",
      "getting activations for 6401/9144 ../data/101_ObjectCategories/Motorbikes/image_0138.jpg\n",
      "getting activations for 6501/9144 ../data/101_ObjectCategories/Motorbikes/image_0238.jpg\n",
      "getting activations for 6601/9144 ../data/101_ObjectCategories/Motorbikes/image_0338.jpg\n",
      "getting activations for 6701/9144 ../data/101_ObjectCategories/Motorbikes/image_0438.jpg\n",
      "getting activations for 6801/9144 ../data/101_ObjectCategories/Motorbikes/image_0538.jpg\n",
      "getting activations for 6901/9144 ../data/101_ObjectCategories/Motorbikes/image_0638.jpg\n",
      "getting activations for 7001/9144 ../data/101_ObjectCategories/Motorbikes/image_0738.jpg\n",
      "getting activations for 7101/9144 ../data/101_ObjectCategories/nautilus/image_0040.jpg\n",
      "getting activations for 7201/9144 ../data/101_ObjectCategories/pagoda/image_0011.jpg\n",
      "getting activations for 7301/9144 ../data/101_ObjectCategories/pigeon/image_0026.jpg\n",
      "getting activations for 7401/9144 ../data/101_ObjectCategories/platypus/image_0028.jpg\n",
      "getting activations for 7501/9144 ../data/101_ObjectCategories/revolver/image_0037.jpg\n",
      "getting activations for 7601/9144 ../data/101_ObjectCategories/rhino/image_0055.jpg\n",
      "getting activations for 7701/9144 ../data/101_ObjectCategories/schooner/image_0007.jpg\n",
      "getting activations for 7801/9144 ../data/101_ObjectCategories/scorpion/image_0005.jpg\n",
      "getting activations for 7901/9144 ../data/101_ObjectCategories/sea_horse/image_0021.jpg\n",
      "getting activations for 8001/9144 ../data/101_ObjectCategories/soccer_ball/image_0029.jpg\n",
      "getting activations for 8101/9144 ../data/101_ObjectCategories/starfish/image_0020.jpg\n",
      "getting activations for 8201/9144 ../data/101_ObjectCategories/stegosaurus/image_0034.jpg\n",
      "getting activations for 8301/9144 ../data/101_ObjectCategories/strawberry/image_0011.jpg\n",
      "getting activations for 8401/9144 ../data/101_ObjectCategories/sunflower/image_0076.jpg\n",
      "getting activations for 8501/9144 ../data/101_ObjectCategories/trilobite/image_0042.jpg\n",
      "getting activations for 8601/9144 ../data/101_ObjectCategories/umbrella/image_0056.jpg\n",
      "getting activations for 8701/9144 ../data/101_ObjectCategories/watch/image_0081.jpg\n",
      "getting activations for 8801/9144 ../data/101_ObjectCategories/watch/image_0181.jpg\n",
      "getting activations for 8901/9144 ../data/101_ObjectCategories/wheelchair/image_0005.jpg\n",
      "getting activations for 9001/9144 ../data/101_ObjectCategories/windsor_chair/image_0012.jpg\n",
      "getting activations for 9101/9144 ../data/101_ObjectCategories/yin_yang/image_0017.jpg\n"
     ]
    }
   ],
   "source": [
    "activations = []\n",
    "for idx,image_path in enumerate(images):\n",
    "    if idx%100==0:\n",
    "        print \"getting activations for %d/%d %s\" % (idx+1, len(images), image_path)\n",
    "    image = get_image(image_path);\n",
    "    acts = model.predict(image)[0]\n",
    "    activations.append(acts)\n"
   ]
  },
  {
   "cell_type": "markdown",
   "metadata": {
    "collapsed": true
   },
   "source": [
    "Each set of activations is a 4096-element list which provides a high-level characterization of that image. Some of the elements may be interpratable, corresponding to real-world objects, while others are more abstract. "
   ]
  },
  {
   "cell_type": "code",
   "execution_count": 33,
   "metadata": {
    "collapsed": false
   },
   "outputs": [
    {
     "data": {
      "image/png": "[encoded data removed]",
      "text/plain": [
       "<matplotlib.figure.Figure at 0x11538a950>"
      ]
     },
     "metadata": {},
     "output_type": "display_data"
    }
   ],
   "source": [
    "matplotlib.pyplot.plot(np.array(activations[0]))\n",
    "matplotlib.pyplot.show()"
   ]
  },
  {
   "cell_type": "markdown",
   "metadata": {
    "collapsed": true
   },
   "source": [
    "Now that we have all the activations, we're going to reduce their dimensionality from 4096 down to 300 using [principal component analysis](https://en.wikipedia.org/wiki/Principal_component_analysis), a dimensionality reduction technique which transforms high-dimensional data into a lower-dimensional subspace. PCA is not totally necessary for this application, as we can use the full feature vector and get acceptable results. However in practice PCA improves our representation by removing redundant information in the activations."
   ]
  },
  {
   "cell_type": "code",
   "execution_count": 51,
   "metadata": {
    "collapsed": true
   },
   "outputs": [],
   "source": [
    "acts = np.array(activations)\n",
    "pca = PCA(n_components=10)\n",
    "pca.fit(acts)\n",
    "acts = pca.transform(acts)"
   ]
  },
  {
   "cell_type": "markdown",
   "metadata": {},
   "source": [
    "The variable `acts` now contains our PCA-transformed activation vectors, and we will now use those for doing our image searches.  \n",
    "\n",
    "Let's do a query. What we'll do is define a function which returns the `num_results` closest images to a query image, with repsect to those images contents. What it dos is: for the given query image, it will take its PCA-activations, and compute the euclidean distance between it and every other set of PCA-activations, then return the best ones.\n",
    "\n",
    "We also define a helper function `get_concatenated_images` which creates a thumbnail of a set of images, so we can display the results."
   ]
  },
  {
   "cell_type": "code",
   "execution_count": 72,
   "metadata": {
    "collapsed": false
   },
   "outputs": [
    {
     "data": {
      "image/png": "[encoded data removed]",
      "text/plain": [
       "<matplotlib.figure.Figure at 0x11559d510>"
      ]
     },
     "metadata": {},
     "output_type": "display_data"
    }
   ],
   "source": [
    "def get_concatenated_images(indexes, thumb_height):\n",
    "    thumbs = []\n",
    "    for idx in indexes:\n",
    "        img = Image.open(images[idx])\n",
    "        img = img.resize((img.width * thumb_height / img.height, thumb_height), Image.ANTIALIAS)\n",
    "        if img.mode != 'RGB':\n",
    "            img = img.convert('RGB')\n",
    "        thumbs.append(img)\n",
    "    concat_image = np.concatenate([np.asarray(t) for t in thumbs], axis=1)\n",
    "    return concat_image\n",
    "\n",
    "def get_image_path_between(query_image_idx_1, query_image_idx_2, num_hops=4):\n",
    "    path = [query_image_idx_1, query_image_idx_2]\n",
    "    for hop in range(num_hops-1):\n",
    "        t = float(hop+1) / num_hops\n",
    "        lerp_acts = t * acts[query_image_idx_1] + (1.0-t) * acts[query_image_idx_2]\n",
    "        distances = [distance.euclidean(lerp_acts, act) for act in acts]\n",
    "        idx_closest = sorted(range(len(distances)), key=lambda k: distances[k])\n",
    "        path.insert(1, [i for i in idx_closest if i not in path][0])\n",
    "    return path\n",
    "\n",
    "\n",
    "num_hops = 15\n",
    "query_image_idx_1 = int(num_images*random.random())\n",
    "query_image_idx_2 = int(num_images*random.random())\n",
    "\n",
    "path = get_image_path_between(query_image_idx_1, query_image_idx_2, num_hops)\n",
    "\n",
    "path_image = get_concatenated_images(path, 200)\n",
    "matplotlib.pyplot.figure(figsize = (12,12))\n",
    "imshow(path_image)\n",
    "matplotlib.pyplot.title(\"result images\")\n",
    "\n",
    "scipy.misc.imsave('outfile.jpg', path_image)"
   ]
  },
  {
   "cell_type": "code",
   "execution_count": null,
   "metadata": {
    "collapsed": true
   },
   "outputs": [],
   "source": []
  }
 ],
 "metadata": {
  "anaconda-cloud": {},
  "kernelspec": {
   "display_name": "Python 2",
   "language": "python",
   "name": "python2"
  },
  "language_info": {
   "codemirror_mode": {
    "name": "ipython",
    "version": 2
   },
   "file_extension": ".py",
   "mimetype": "text/x-python",
   "name": "python",
   "nbconvert_exporter": "python",
   "pygments_lexer": "ipython2",
   "version": "2.7.11"
  }
 },
 "nbformat": 4,
 "nbformat_minor": 0
}
