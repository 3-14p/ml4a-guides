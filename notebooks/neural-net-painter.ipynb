{
 "cells": [
  {
   "cell_type": "markdown",
   "metadata": {},
   "source": []
  },
  {
   "cell_type": "code",
   "execution_count": 7,
   "metadata": {
    "collapsed": false
   },
   "outputs": [],
   "source": [
    "%matplotlib inline\n",
    "from PIL import Image\n",
    "import numpy as np\n",
    "import keras\n",
    "from keras.models import Sequential\n",
    "from keras.layers import Dense\n",
    "#from keras.layers import Conv2D, MaxPooling2D\n",
    "#from keras import backend as K\n",
    "\n",
    "path1 = \"/Users/gene/Downloads/dog.jpg\"\n",
    "path2 = \"/Users/gene/Learn/texture_nets/data/readme_pics/kitty.jpg\""
   ]
  },
  {
   "cell_type": "code",
   "execution_count": 32,
   "metadata": {
    "collapsed": false
   },
   "outputs": [],
   "source": [
    "def make_model():\n",
    "    model = Sequential()\n",
    "    model.add(Dense(2, kernel_initializer=\"normal\", activation='relu', input_shape=(2,)))\n",
    "    model.add(Dense(20, kernel_initializer=\"normal\", activation='relu'))\n",
    "    model.add(Dense(20, kernel_initializer=\"normal\", activation='relu'))\n",
    "    model.add(Dense(20, kernel_initializer=\"normal\", activation='relu'))\n",
    "    model.add(Dense(20, kernel_initializer=\"normal\", activation='relu'))\n",
    "    model.add(Dense(20, kernel_initializer=\"normal\", activation='relu'))\n",
    "    model.add(Dense(20, kernel_initializer=\"normal\", activation='relu'))\n",
    "    model.add(Dense(20, kernel_initializer=\"normal\", activation='relu'))\n",
    "    model.add(Dense(20, kernel_initializer=\"normal\", activation='relu'))\n",
    "    model.add(Dense(3, kernel_initializer=\"normal\"))\n",
    "    model.compile(loss='mean_squared_error', optimizer='adam')\n",
    "    return model\n",
    "\n",
    "m1 = make_model()\n",
    "m2 = make_model()\n"
   ]
  },
  {
   "cell_type": "markdown",
   "metadata": {},
   "source": []
  },
  {
   "cell_type": "code",
   "execution_count": 8,
   "metadata": {
    "collapsed": true
   },
   "outputs": [],
   "source": [
    "def get_data(img):\n",
    "    pixels = img.getdata()\n",
    "    x_data, y_data = [],[]\n",
    "    for y in range(height):\n",
    "        for x in range(width):\n",
    "            idx = x + y * width\n",
    "            r, g, b = pixels[idx]\n",
    "            x_data.append([x/float(width), y/float(height)])\n",
    "            y_data.append([r, g, b])\n",
    "    x_data = np.array(x_data)\n",
    "    y_data = np.array(y_data)\n",
    "    return x_data, y_data\n",
    "\n",
    "im1 = Image.open(path1)\n",
    "im2 = Image.open(path2)\n",
    "im2 = im2.resize(im1.size)\n",
    "width, height = im1.size\n",
    "\n",
    "x1, y1 = get_data(im1)\n",
    "x2, y2 = get_data(im2)\n"
   ]
  },
  {
   "cell_type": "markdown",
   "metadata": {},
   "source": []
  },
  {
   "cell_type": "code",
   "execution_count": 9,
   "metadata": {
    "collapsed": false
   },
   "outputs": [
    {
     "name": "stdout",
     "output_type": "stream",
     "text": [
      "Train on 90000 samples, validate on 90000 samples\n",
      "Epoch 1/20\n",
      "90000/90000 [==============================] - 0s - loss: 5175.5671 - val_loss: 3205.5965\n",
      "Epoch 2/20\n",
      "90000/90000 [==============================] - 0s - loss: 3179.6136 - val_loss: 3170.7304\n",
      "Epoch 3/20\n",
      "90000/90000 [==============================] - 0s - loss: 3171.0338 - val_loss: 3167.3256\n",
      "Epoch 4/20\n",
      "90000/90000 [==============================] - 0s - loss: 3169.3200 - val_loss: 3166.5097\n",
      "Epoch 5/20\n",
      "90000/90000 [==============================] - 0s - loss: 3169.0254 - val_loss: 3166.5482\n",
      "Epoch 6/20\n",
      "90000/90000 [==============================] - 0s - loss: 3168.5353 - val_loss: 3175.4782\n",
      "Epoch 7/20\n",
      "90000/90000 [==============================] - 0s - loss: 3168.4852 - val_loss: 3169.8046\n",
      "Epoch 8/20\n",
      "90000/90000 [==============================] - 0s - loss: 3168.1716 - val_loss: 3171.5619\n",
      "Epoch 9/20\n",
      "90000/90000 [==============================] - 0s - loss: 3165.8357 - val_loss: 3163.1344\n",
      "Epoch 10/20\n",
      "90000/90000 [==============================] - 0s - loss: 3165.9837 - val_loss: 3162.3340\n",
      "Epoch 11/20\n",
      "90000/90000 [==============================] - 0s - loss: 3164.5108 - val_loss: 3163.1346\n",
      "Epoch 12/20\n",
      "90000/90000 [==============================] - 0s - loss: 3164.2917 - val_loss: 3160.6809\n",
      "Epoch 13/20\n",
      "90000/90000 [==============================] - 0s - loss: 3163.3154 - val_loss: 3177.2444\n",
      "Epoch 14/20\n",
      "90000/90000 [==============================] - 0s - loss: 3162.3925 - val_loss: 3173.2518\n",
      "Epoch 15/20\n",
      "90000/90000 [==============================] - 0s - loss: 3161.0672 - val_loss: 3159.3863\n",
      "Epoch 16/20\n",
      "90000/90000 [==============================] - 0s - loss: 3161.4304 - val_loss: 3160.3925\n",
      "Epoch 17/20\n",
      "90000/90000 [==============================] - 0s - loss: 3160.8862 - val_loss: 3159.8213\n",
      "Epoch 18/20\n",
      "90000/90000 [==============================] - 0s - loss: 3159.7569 - val_loss: 3156.5359\n",
      "Epoch 19/20\n",
      "90000/90000 [==============================] - 0s - loss: 3158.4047 - val_loss: 3155.5635\n",
      "Epoch 20/20\n",
      "90000/90000 [==============================] - 0s - loss: 3158.5892 - val_loss: 3157.1667\n",
      "Train on 90000 samples, validate on 90000 samples\n",
      "Epoch 1/20\n",
      "90000/90000 [==============================] - 0s - loss: 4512.5717 - val_loss: 2316.0109\n",
      "Epoch 2/20\n",
      "90000/90000 [==============================] - 0s - loss: 2309.6504 - val_loss: 2305.4555\n",
      "Epoch 3/20\n",
      "90000/90000 [==============================] - 0s - loss: 2306.8147 - val_loss: 2309.7584\n",
      "Epoch 4/20\n",
      "90000/90000 [==============================] - 0s - loss: 2306.7731 - val_loss: 2303.4747\n",
      "Epoch 5/20\n",
      "90000/90000 [==============================] - 0s - loss: 2305.9253 - val_loss: 2307.9439\n",
      "Epoch 6/20\n",
      "90000/90000 [==============================] - 0s - loss: 2304.7883 - val_loss: 2303.1706\n",
      "Epoch 7/20\n",
      "90000/90000 [==============================] - 0s - loss: 2301.9098 - val_loss: 2298.0479\n",
      "Epoch 8/20\n",
      "90000/90000 [==============================] - 0s - loss: 2300.2799 - val_loss: 2296.7606\n",
      "Epoch 9/20\n",
      "90000/90000 [==============================] - 0s - loss: 2299.4971 - val_loss: 2304.0576\n",
      "Epoch 10/20\n",
      "90000/90000 [==============================] - 0s - loss: 2297.9153 - val_loss: 2294.0874\n",
      "Epoch 11/20\n",
      "90000/90000 [==============================] - 0s - loss: 2296.4589 - val_loss: 2292.3746\n",
      "Epoch 12/20\n",
      "90000/90000 [==============================] - 0s - loss: 2295.1017 - val_loss: 2298.3078\n",
      "Epoch 13/20\n",
      "90000/90000 [==============================] - 0s - loss: 2294.3334 - val_loss: 2290.1021\n",
      "Epoch 14/20\n",
      "90000/90000 [==============================] - 0s - loss: 2292.4141 - val_loss: 2289.7356\n",
      "Epoch 15/20\n",
      "90000/90000 [==============================] - 0s - loss: 2290.6822 - val_loss: 2297.8457\n",
      "Epoch 16/20\n",
      "90000/90000 [==============================] - 0s - loss: 2289.7414 - val_loss: 2285.6742\n",
      "Epoch 17/20\n",
      "90000/90000 [==============================] - 0s - loss: 2288.8937 - val_loss: 2284.4040\n",
      "Epoch 18/20\n",
      "90000/90000 [==============================] - 0s - loss: 2287.3047 - val_loss: 2284.3845\n",
      "Epoch 19/20\n",
      "90000/90000 [==============================] - 0s - loss: 2284.5483 - val_loss: 2283.9726\n",
      "Epoch 20/20\n",
      "90000/90000 [==============================] - 0s - loss: 2283.8541 - val_loss: 2289.0049\n"
     ]
    },
    {
     "data": {
      "text/plain": [
       "<keras.callbacks.History at 0x116752150>"
      ]
     },
     "execution_count": 9,
     "metadata": {},
     "output_type": "execute_result"
    }
   ],
   "source": [
    "m1.fit(x1, y1, batch_size=64, epochs=20, verbose=1, validation_data=(x1, y1))\n",
    "m2.fit(x2, y2, batch_size=64, epochs=20, verbose=1, validation_data=(x2, y2))\n"
   ]
  },
  {
   "cell_type": "code",
   "execution_count": 28,
   "metadata": {
    "collapsed": false
   },
   "outputs": [],
   "source": [
    "def get_interpolated_image(model1, model2, amt):\n",
    "    w1 = np.array(model1.get_weights())\n",
    "    w2 = np.array(model2.get_weights())\n",
    "    w3 = np.add((1.0 - amt) * w1, amt * w2)\n",
    "    model.set_weights(w3)\n",
    "    img = Image.new(\"RGB\", [width, height])\n",
    "    pixels = img.load()\n",
    "    y_pred = model.predict(x1)\n",
    "    print(y_pred)\n",
    "    for y in range(height):\n",
    "        for x in range(width):\n",
    "            idx = x + y * width\n",
    "            r, g, b = y_pred[idx]\n",
    "            pixels[x, y] = (int(r), int(g), int(b))\n",
    "#     img.save(\"/Users/gene/Downloads/mytest.png\", \"png\")\n",
    "    return img\n",
    "    #im_new.save(path, \"png\")\n",
    "\n",
    "\n",
    "#for i in range(10):\n",
    "#  do_interp(\"/Users/gene/Downloads/dog2_3_%d.png\"%i, float(i)/(9))\n",
    "\n",
    "\n",
    "# print width, height"
   ]
  },
  {
   "cell_type": "code",
   "execution_count": 31,
   "metadata": {
    "collapsed": false
   },
   "outputs": [
    {
     "name": "stdout",
     "output_type": "stream",
     "text": [
      "[[  59.40284348   68.16860199   37.71345901]\n",
      " [  59.5620842    68.31572723   37.82919693]\n",
      " [  59.72131729   68.46286774   37.94493103]\n",
      " ..., \n",
      " [ 203.40966797  201.23262024  142.37908936]\n",
      " [ 203.56889343  201.37974548  142.49481201]\n",
      " [ 203.72813416  201.52688599  142.61056519]]\n"
     ]
    }
   ],
   "source": [
    "\n",
    "im = get_interpolated_image(m1, m2, 0.0)\n",
    "im.show()"
   ]
  },
  {
   "cell_type": "code",
   "execution_count": null,
   "metadata": {
    "collapsed": true
   },
   "outputs": [],
   "source": [
    "\n",
    "im2 = Image.new(\"RGB\", [width, height])\n",
    "pixels = im2.load()\n",
    "y_pred = model1.predict(x1)\n",
    "for y in range(height):\n",
    "  for x in range(width):\n",
    "    idx = x + y * width\n",
    "    r, g, b = y_pred[idx] * 255\n",
    "    pixels[x, y] = (int(r), int(g), int(b))\n",
    "\n",
    "im2.save(\"/Users/gene/Downloads/dog2_33.png\", \"png\")\n",
    "\n",
    "\n",
    "\n",
    "w1 = np.array(model1.get_weights())\n",
    "w2 = np.array(model2.get_weights())\n",
    "\n",
    "w3 = np.add(w1, w2)\n",
    "\n",
    "\n"
   ]
  }
 ],
 "metadata": {
  "kernelspec": {
   "display_name": "Python 2",
   "language": "python",
   "name": "python2"
  },
  "language_info": {
   "codemirror_mode": {
    "name": "ipython",
    "version": 2
   },
   "file_extension": ".py",
   "mimetype": "text/x-python",
   "name": "python",
   "nbconvert_exporter": "python",
   "pygments_lexer": "ipython2",
   "version": "2.7.11"
  }
 },
 "nbformat": 4,
 "nbformat_minor": 0
}
