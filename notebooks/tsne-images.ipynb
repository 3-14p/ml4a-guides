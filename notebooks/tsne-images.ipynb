{
 "cells": [
  {
   "cell_type": "markdown",
   "metadata": {},
   "source": [
    "This notebook will take you through the process of generating a t-SNE of a set of images, using a feature vector for each image derived from the activations of the last fully-connected layer in a convolutional neural network (VGGNet).\n",
    "\n",
    "To start, you need a folder of images to which you would like to apply it to. It will work with any number of images, but typically a few hundred is aimed for, or a few thousand if you are ambitious. \n",
    "\n",
    "The code also has a number of dependencies. You need to install:\n",
    "\n",
    " * [numpy]()\n",
    " * [scikit-learn]()\n",
    " * [keras]()\n",
    " * [h5py]()\n",
    " * [Pillow]()\n",
    "\n",
    "Lastly, you should also download the weights of the VGG-16 network. You can do so by running the following command in a terminal:\n",
    "\n",
    "    wget -i sdfjsdfjsdf\n",
    "    \n",
    "Run the following import commands and make sure all the libraries are correctly installed and import without errors."
   ]
  },
  {
   "cell_type": "code",
   "execution_count": 11,
   "metadata": {
    "collapsed": false
   },
   "outputs": [],
   "source": [
    "import numpy as np\n",
    "from os import listdir\n",
    "from os.path import isfile, join\n",
    "import h5py\n",
    "from PIL import Image\n",
    "\n",
    "from keras.models import Sequential\n",
    "from keras.layers.core import Flatten, Dense, Dropout\n",
    "from keras.layers import Convolution2D, ZeroPadding2D, MaxPooling2D\n",
    "from keras.optimizers import SGD\n",
    "\n",
    "from sklearn.manifold import TSNE\n"
   ]
  },
  {
   "cell_type": "code",
   "execution_count": 19,
   "metadata": {
    "collapsed": true
   },
   "outputs": [],
   "source": [
    "vgg_path = '../data/vgg16_weights.h5'\n",
    "images_path = '../data/animals'\n",
    "tsne_path = 'tsne_points.txt'\n",
    "skip = 15 # use fewer images by skipping through directory more (1 = use all the images)"
   ]
  },
  {
   "cell_type": "code",
   "execution_count": 12,
   "metadata": {
    "collapsed": true
   },
   "outputs": [],
   "source": [
    "def get_image(path):\n",
    "    img = Image.open(path)\n",
    "    if img.mode != 'RGB':\n",
    "        img = img.convert('RGB')\n",
    "    img = img.resize((224, 224), Image.ANTIALIAS)\n",
    "    im2 = np.array(img.getdata(), np.uint8)\n",
    "    #im3 = np.array(img.getdata(), np.uint8)\n",
    "    #im2[:,0] = im3[:,2]\n",
    "    #im2[:,2] = im3[:,0]\n",
    "    im2 = im2.reshape(img.size[1], img.size[0], 3).astype(np.float32)\n",
    "    #im2[:,:,0] -= 103.939\n",
    "    #im2[:,:,1] -= 116.779\n",
    "    #im2[:,:,2] -= 123.68\n",
    "    im2[:,:,0] -= 123.68\n",
    "    im2[:,:,1] -= 116.779\n",
    "    im2[:,:,2] -= 103.939\n",
    "    im2 = im2.transpose((2,0,1))\n",
    "    im2 = np.expand_dims(im2, axis=0)\n",
    "    return im2\n"
   ]
  },
  {
   "cell_type": "code",
   "execution_count": 13,
   "metadata": {
    "collapsed": true
   },
   "outputs": [],
   "source": [
    "def VGG_16(weights_path):\n",
    "    model = Sequential()\n",
    "    model.add(ZeroPadding2D((1,1),input_shape=(3,224,224)))\n",
    "    model.add(Convolution2D(64, 3, 3, activation='relu'))\n",
    "    model.add(ZeroPadding2D((1,1)))\n",
    "    model.add(Convolution2D(64, 3, 3, activation='relu'))\n",
    "    model.add(MaxPooling2D((2,2), strides=(2,2)))\n",
    "    model.add(ZeroPadding2D((1,1)))\n",
    "    model.add(Convolution2D(128, 3, 3, activation='relu'))\n",
    "    model.add(ZeroPadding2D((1,1)))\n",
    "    model.add(Convolution2D(128, 3, 3, activation='relu'))\n",
    "    model.add(MaxPooling2D((2,2), strides=(2,2)))\n",
    "    model.add(ZeroPadding2D((1,1)))\n",
    "    model.add(Convolution2D(256, 3, 3, activation='relu'))\n",
    "    model.add(ZeroPadding2D((1,1)))\n",
    "    model.add(Convolution2D(256, 3, 3, activation='relu'))\n",
    "    model.add(ZeroPadding2D((1,1)))\n",
    "    model.add(Convolution2D(256, 3, 3, activation='relu'))\n",
    "    model.add(MaxPooling2D((2,2), strides=(2,2)))\n",
    "    model.add(ZeroPadding2D((1,1)))\n",
    "    model.add(Convolution2D(512, 3, 3, activation='relu'))\n",
    "    model.add(ZeroPadding2D((1,1)))\n",
    "    model.add(Convolution2D(512, 3, 3, activation='relu'))\n",
    "    model.add(ZeroPadding2D((1,1)))\n",
    "    model.add(Convolution2D(512, 3, 3, activation='relu'))\n",
    "    model.add(MaxPooling2D((2,2), strides=(2,2)))\n",
    "    model.add(ZeroPadding2D((1,1)))\n",
    "    model.add(Convolution2D(512, 3, 3, activation='relu'))\n",
    "    model.add(ZeroPadding2D((1,1)))\n",
    "    model.add(Convolution2D(512, 3, 3, activation='relu'))\n",
    "    model.add(ZeroPadding2D((1,1)))\n",
    "    model.add(Convolution2D(512, 3, 3, activation='relu'))\n",
    "    model.add(MaxPooling2D((2,2), strides=(2,2)))\n",
    "    model.add(Flatten())\n",
    "    model.add(Dense(4096, activation='relu'))\n",
    "    model.add(Dropout(0.5))\n",
    "    model.add(Dense(4096, activation='relu'))\n",
    "    f = h5py.File(weights_path)\n",
    "    for k in range(f.attrs['nb_layers']):\n",
    "        if k >= len(model.layers):\n",
    "            break\n",
    "        g = f['layer_{}'.format(k)]\n",
    "        weights = [g['param_{}'.format(p)] for p in range(g.attrs['nb_params'])]\n",
    "        model.layers[k].set_weights(weights)\n",
    "    print(\"finished loading VGGNet\")\n",
    "    return model"
   ]
  },
  {
   "cell_type": "code",
   "execution_count": 14,
   "metadata": {
    "collapsed": false
   },
   "outputs": [
    {
     "name": "stdout",
     "output_type": "stream",
     "text": [
      "finished loading VGGNet\n"
     ]
    }
   ],
   "source": [
    "\n",
    "\n",
    "# load model\n",
    "model = VGG_16(vgg_path)\n"
   ]
  },
  {
   "cell_type": "code",
   "execution_count": 15,
   "metadata": {
    "collapsed": false
   },
   "outputs": [
    {
     "name": "stdout",
     "output_type": "stream",
     "text": [
      "134\n"
     ]
    }
   ],
   "source": [
    "sgd = SGD(lr=0.1, decay=1e-6, momentum=0.9, nesterov=True)\n",
    "model.compile(optimizer=sgd, loss='categorical_crossentropy')\n",
    "\n",
    "# get images\n",
    "images = [f for f in listdir(images_path) if isfile(join(images_path, f))]\n",
    "images = [images[i] for i in range(1,len(images), skip)]\n",
    "print(len(images))\n"
   ]
  },
  {
   "cell_type": "code",
   "execution_count": 16,
   "metadata": {
    "collapsed": false
   },
   "outputs": [
    {
     "name": "stdout",
     "output_type": "stream",
     "text": [
      "getting activations for bat-0001.jpg 0/134\n",
      "getting activations for bat-0016.jpg 1/134\n",
      "getting activations for bat-0031.jpg 2/134\n",
      "getting activations for bear-0006.jpg 3/134\n",
      "getting activations for bear-0021.jpg 4/134\n",
      "getting activations for bear-0036.jpg 5/134\n",
      "getting activations for bonsai-101-0011.jpg 6/134\n",
      "getting activations for bonsai-101-0026.jpg 7/134\n",
      "getting activations for butterfly-0001.jpg 8/134\n",
      "getting activations for butterfly-0016.jpg 9/134\n",
      "getting activations for butterfly-0031.jpg 10/134\n",
      "getting activations for cactus-0006.jpg 11/134\n",
      "getting activations for cactus-0021.jpg 12/134\n",
      "getting activations for cactus-0036.jpg 13/134\n",
      "getting activations for camel-0011.jpg 14/134\n",
      "getting activations for camel-0026.jpg 15/134\n",
      "getting activations for centipede-0001.jpg 16/134\n",
      "getting activations for centipede-0016.jpg 17/134\n",
      "getting activations for centipede-0031.jpg 18/134\n",
      "getting activations for chimp-0006.jpg 19/134\n",
      "getting activations for chimp-0021.jpg 20/134\n",
      "getting activations for chimp-0036.jpg 21/134\n",
      "getting activations for cockroach-0011.jpg 22/134\n",
      "getting activations for cockroach-0026.jpg 23/134\n",
      "getting activations for conch-0001.jpg 24/134\n",
      "getting activations for conch-0016.jpg 25/134\n",
      "getting activations for conch-0031.jpg 26/134\n",
      "getting activations for crab-101-0006.jpg 27/134\n",
      "getting activations for crab-101-0021.jpg 28/134\n",
      "getting activations for crab-101-0036.jpg 29/134\n",
      "getting activations for dog-0011.jpg 30/134\n",
      "getting activations for dog-0026.jpg 31/134\n",
      "getting activations for dolphin-101-0001.jpg 32/134\n",
      "getting activations for dolphin-101-0016.jpg 33/134\n",
      "getting activations for dolphin-101-0031.jpg 34/134\n",
      "getting activations for duck-0006.jpg 35/134\n",
      "getting activations for duck-0021.jpg 36/134\n",
      "getting activations for duck-0036.jpg 37/134\n",
      "getting activations for elephant-101-0011.jpg 38/134\n",
      "getting activations for elephant-101-0026.jpg 39/134\n",
      "getting activations for elk-0001.jpg 40/134\n",
      "getting activations for elk-0016.jpg 41/134\n",
      "getting activations for elk-0031.jpg 42/134\n",
      "getting activations for fern-0006.jpg 43/134\n",
      "getting activations for fern-0021.jpg 44/134\n",
      "getting activations for fern-0036.jpg 45/134\n",
      "getting activations for frog-0011.jpg 46/134\n",
      "getting activations for frog-0026.jpg 47/134\n",
      "getting activations for giraffe-0001.jpg 48/134\n",
      "getting activations for giraffe-0016.jpg 49/134\n",
      "getting activations for giraffe-0031.jpg 50/134\n",
      "getting activations for goat-0006.jpg 51/134\n",
      "getting activations for goat-0021.jpg 52/134\n",
      "getting activations for goat-0036.jpg 53/134\n",
      "getting activations for goose-0011.jpg 54/134\n",
      "getting activations for goose-0026.jpg 55/134\n",
      "getting activations for grasshopper-0001.jpg 56/134\n",
      "getting activations for grasshopper-0016.jpg 57/134\n",
      "getting activations for grasshopper-0031.jpg 58/134\n",
      "getting activations for greyhound-0006.jpg 59/134\n",
      "getting activations for greyhound-0021.jpg 60/134\n",
      "getting activations for greyhound-0036.jpg 61/134\n",
      "getting activations for hawksbill-101-0011.jpg 62/134\n",
      "getting activations for hawksbill-101-0026.jpg 63/134\n",
      "getting activations for hibiscus-0001.jpg 64/134\n",
      "getting activations for hibiscus-0016.jpg 65/134\n",
      "getting activations for hibiscus-0031.jpg 66/134\n",
      "getting activations for house-fly-0006.jpg 67/134\n",
      "getting activations for house-fly-0021.jpg 68/134\n",
      "getting activations for house-fly-0036.jpg 69/134\n",
      "getting activations for hummingbird-0011.jpg 70/134\n",
      "getting activations for hummingbird-0026.jpg 71/134\n",
      "getting activations for iguana-0001.jpg 72/134\n",
      "getting activations for iguana-0016.jpg 73/134\n",
      "getting activations for iguana-0031.jpg 74/134\n",
      "getting activations for iris-0006.jpg 75/134\n",
      "getting activations for iris-0021.jpg 76/134\n",
      "getting activations for iris-0036.jpg 77/134\n",
      "getting activations for killer-whale-0011.jpg 78/134\n",
      "getting activations for killer-whale-0026.jpg 79/134\n",
      "getting activations for llama-101-0001.jpg 80/134\n",
      "getting activations for llama-101-0016.jpg 81/134\n",
      "getting activations for llama-101-0031.jpg 82/134\n",
      "getting activations for mushroom-0006.jpg 83/134\n",
      "getting activations for mushroom-0021.jpg 84/134\n",
      "getting activations for mushroom-0036.jpg 85/134\n",
      "getting activations for ostrich-0011.jpg 86/134\n",
      "getting activations for ostrich-0026.jpg 87/134\n",
      "getting activations for owl-0001.jpg 88/134\n",
      "getting activations for owl-0016.jpg 89/134\n",
      "getting activations for owl-0031.jpg 90/134\n",
      "getting activations for penguin-0006.jpg 91/134\n",
      "getting activations for penguin-0021.jpg 92/134\n",
      "getting activations for penguin-0036.jpg 93/134\n",
      "getting activations for porcupine-0011.jpg 94/134\n",
      "getting activations for porcupine-0026.jpg 95/134\n",
      "getting activations for praying-mantis-0001.jpg 96/134\n",
      "getting activations for praying-mantis-0016.jpg 97/134\n",
      "getting activations for praying-mantis-0031.jpg 98/134\n",
      "getting activations for raccoon-0006.jpg 99/134\n",
      "getting activations for raccoon-0021.jpg 100/134\n",
      "getting activations for raccoon-0036.jpg 101/134\n",
      "getting activations for scorpion-101-0011.jpg 102/134\n",
      "getting activations for scorpion-101-0026.jpg 103/134\n",
      "getting activations for skunk-0001.jpg 104/134\n",
      "getting activations for skunk-0016.jpg 105/134\n",
      "getting activations for skunk-0031.jpg 106/134\n",
      "getting activations for snail-0006.jpg 107/134\n",
      "getting activations for snail-0021.jpg 108/134\n",
      "getting activations for snail-0036.jpg 109/134\n",
      "getting activations for spider-0011.jpg 110/134\n",
      "getting activations for spider-0026.jpg 111/134\n",
      "getting activations for starfish-101-0001.jpg 112/134\n",
      "getting activations for starfish-101-0016.jpg 113/134\n",
      "getting activations for starfish-101-0031.jpg 114/134\n",
      "getting activations for sunflower-101-0006.jpg 115/134\n",
      "getting activations for sunflower-101-0021.jpg 116/134\n",
      "getting activations for sunflower-101-0036.jpg 117/134\n",
      "getting activations for swan-0011.jpg 118/134\n",
      "getting activations for swan-0026.jpg 119/134\n",
      "getting activations for toad-0001.jpg 120/134\n",
      "getting activations for toad-0016.jpg 121/134\n",
      "getting activations for toad-0031.jpg 122/134\n",
      "getting activations for triceratops-0006.jpg 123/134\n",
      "getting activations for triceratops-0021.jpg 124/134\n",
      "getting activations for triceratops-0036.jpg 125/134\n",
      "getting activations for trilobite-101-0011.jpg 126/134\n",
      "getting activations for trilobite-101-0026.jpg 127/134\n",
      "getting activations for unicorn-0001.jpg 128/134\n",
      "getting activations for unicorn-0016.jpg 129/134\n",
      "getting activations for unicorn-0031.jpg 130/134\n",
      "getting activations for zebra-0006.jpg 131/134\n",
      "getting activations for zebra-0021.jpg 132/134\n",
      "getting activations for zebra-0036.jpg 133/134\n"
     ]
    }
   ],
   "source": [
    "\n",
    "# analyze images and grab activations\n",
    "activations = []\n",
    "for idx,image_path in enumerate(images):\n",
    "    print \"getting activations for %s %d/%d\" % (image_path,idx,len(images))\n",
    "    file_path = join(images_path,image_path)\n",
    "    image = get_image(file_path);\n",
    "    acts = model.predict(image)[0]\n",
    "    activations.append(acts)\n"
   ]
  },
  {
   "cell_type": "code",
   "execution_count": null,
   "metadata": {
    "collapsed": true
   },
   "outputs": [],
   "source": []
  },
  {
   "cell_type": "code",
   "execution_count": 17,
   "metadata": {
    "collapsed": false
   },
   "outputs": [
    {
     "name": "stdout",
     "output_type": "stream",
     "text": [
      "[t-SNE] Computing pairwise distances...\n",
      "[t-SNE] Computing 91 nearest neighbors...\n",
      "[t-SNE] Computed conditional probabilities for sample 134 / 134\n",
      "[t-SNE] Mean sigma: 24.345238\n",
      "[t-SNE] Iteration 25: error = 2.1820540, gradient norm = 0.0706403\n",
      "[t-SNE] Iteration 50: error = 1.9238983, gradient norm = 0.0020988\n",
      "[t-SNE] Iteration 75: error = 1.7429490, gradient norm = 0.0199837\n",
      "[t-SNE] Iteration 100: error = 1.7353102, gradient norm = 0.0018349\n",
      "[t-SNE] Error after 100 iterations with early exaggeration: 1.735310\n",
      "[t-SNE] Iteration 125: error = 1.8405241, gradient norm = 0.0018886\n",
      "[t-SNE] Iteration 150: error = 1.7340525, gradient norm = 0.0012949\n",
      "[t-SNE] Iteration 175: error = 1.7097749, gradient norm = 0.0011852\n",
      "[t-SNE] Iteration 200: error = 1.7019470, gradient norm = 0.0012243\n",
      "[t-SNE] Iteration 225: error = 1.6995424, gradient norm = 0.0012388\n",
      "[t-SNE] Iteration 250: error = 1.6988744, gradient norm = 0.0012432\n",
      "[t-SNE] Iteration 275: error = 1.6986834, gradient norm = 0.0012444\n",
      "[t-SNE] Iteration 300: error = 1.6986288, gradient norm = 0.0012448\n",
      "[t-SNE] Iteration 325: error = 1.6986138, gradient norm = 0.0012449\n",
      "[t-SNE] Iteration 350: error = 1.6986104, gradient norm = 0.0012449\n",
      "[t-SNE] Iteration 375: error = 1.6986102, gradient norm = 0.0012449\n",
      "[t-SNE] Iteration 375: error difference 0.000000. Finished.\n",
      "[t-SNE] Error after 375 iterations: 1.698610\n"
     ]
    }
   ],
   "source": [
    "X = np.array(activations)\n",
    "tsne = TSNE(n_components=2, perplexity=30, verbose=2).fit_transform(X)"
   ]
  },
  {
   "cell_type": "code",
   "execution_count": null,
   "metadata": {
    "collapsed": true
   },
   "outputs": [],
   "source": []
  },
  {
   "cell_type": "code",
   "execution_count": 18,
   "metadata": {
    "collapsed": true
   },
   "outputs": [],
   "source": [
    "# normalize t-sne points to {0,1}\n",
    "x, y = tsne[:,0], tsne[:,1]\n",
    "x = (x-np.min(x)) / (np.max(x) - np.min(x))\n",
    "y = (y-np.min(y)) / (np.max(y) - np.min(y))"
   ]
  },
  {
   "cell_type": "code",
   "execution_count": 20,
   "metadata": {
    "collapsed": false
   },
   "outputs": [
    {
     "name": "stdout",
     "output_type": "stream",
     "text": [
      "done! results saved to tsne_points.txt\n"
     ]
    }
   ],
   "source": [
    "f = open(tsne_path, 'w')\n",
    "for idx,image_path in enumerate(images):\n",
    "    file_path = join(images_path,image_path)\n",
    "    line = \"%s, %f, %f\" % (file_path, x[idx], y[idx])\n",
    "    f.write('%s\\n'%line)\n",
    "\n",
    "f.close()\n",
    "print \"done! results saved to %s\"%tsne_path"
   ]
  },
  {
   "cell_type": "code",
   "execution_count": null,
   "metadata": {
    "collapsed": true
   },
   "outputs": [],
   "source": [
    "main_img = Image.net(500, 500)\n",
    "for idx,image_path in enumerate(images):\n",
    "    file_path = join(images_path,image_path)\n",
    "    x_ = w * x[idx]\n",
    "    y_ = h * y[idx]\n",
    "    img = Image.open(file_path)\n",
    "    \n",
    "    "
   ]
  }
 ],
 "metadata": {
  "kernelspec": {
   "display_name": "Python 2",
   "language": "python",
   "name": "python2"
  },
  "language_info": {
   "codemirror_mode": {
    "name": "ipython",
    "version": 2
   },
   "file_extension": ".py",
   "mimetype": "text/x-python",
   "name": "python",
   "nbconvert_exporter": "python",
   "pygments_lexer": "ipython2",
   "version": "2.7.11"
  }
 },
 "nbformat": 4,
 "nbformat_minor": 0
}
