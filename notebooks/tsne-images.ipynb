{
 "cells": [
  {
   "cell_type": "markdown",
   "metadata": {},
   "source": [
    "this is some markdown\n"
   ]
  },
  {
   "cell_type": "code",
   "execution_count": 2,
   "metadata": {
    "collapsed": false
   },
   "outputs": [
    {
     "name": "stdout",
     "output_type": "stream",
     "text": [
      "5\n"
     ]
    }
   ],
   "source": [
    "import numpy as np\n",
    "from os import listdir\n",
    "from os.path import isfile, join\n",
    "import h5py\n",
    "from PIL import Image\n",
    "\n",
    "from keras.models import Sequential\n",
    "from keras.layers.core import Flatten, Dense, Dropout\n",
    "from keras.layers import Convolution2D, ZeroPadding2D, MaxPooling2D\n",
    "from keras.optimizers import SGD\n",
    "\n",
    "from sklearn.manifold import TSNE\n"
   ]
  },
  {
   "cell_type": "code",
   "execution_count": null,
   "metadata": {
    "collapsed": true
   },
   "outputs": [],
   "source": [
    "def get_image(path, w, h):\n",
    "    img = Image.open(path)\n",
    "    if img.mode == 'L' or img.mode == 'RGBA':\n",
    "        img = img.convert('RGB')\n",
    "    img = img.resize((w, h), Image.ANTIALIAS)\n",
    "    im2 = np.array(img.getdata(), np.uint8)\n",
    "    im3 = np.array(img.getdata(), np.uint8)\n",
    "    im2[:,0] = im3[:,2]\n",
    "    im2[:,2] = im3[:,0]\n",
    "    im2 = im2.reshape(img.size[1], img.size[0], 3).astype(np.float32)\n",
    "    im2[:,:,0] -= 103.939\n",
    "    im2[:,:,1] -= 116.779\n",
    "    im2[:,:,2] -= 123.68\n",
    "    im2 = im2.transpose((2,0,1))\n",
    "    im2 = np.expand_dims(im2, axis=0)\n",
    "    return im2\n"
   ]
  },
  {
   "cell_type": "code",
   "execution_count": null,
   "metadata": {
    "collapsed": true
   },
   "outputs": [],
   "source": [
    "def VGG_16(weights_path):\n",
    "    model = Sequential()\n",
    "    model.add(ZeroPadding2D((1,1),input_shape=(3,224,224)))\n",
    "    model.add(Convolution2D(64, 3, 3, activation='relu'))\n",
    "    model.add(ZeroPadding2D((1,1)))\n",
    "    model.add(Convolution2D(64, 3, 3, activation='relu'))\n",
    "    model.add(MaxPooling2D((2,2), strides=(2,2)))\n",
    "    model.add(ZeroPadding2D((1,1)))\n",
    "    model.add(Convolution2D(128, 3, 3, activation='relu'))\n",
    "    model.add(ZeroPadding2D((1,1)))\n",
    "    model.add(Convolution2D(128, 3, 3, activation='relu'))\n",
    "    model.add(MaxPooling2D((2,2), strides=(2,2)))\n",
    "    model.add(ZeroPadding2D((1,1)))\n",
    "    model.add(Convolution2D(256, 3, 3, activation='relu'))\n",
    "    model.add(ZeroPadding2D((1,1)))\n",
    "    model.add(Convolution2D(256, 3, 3, activation='relu'))\n",
    "    model.add(ZeroPadding2D((1,1)))\n",
    "    model.add(Convolution2D(256, 3, 3, activation='relu'))\n",
    "    model.add(MaxPooling2D((2,2), strides=(2,2)))\n",
    "    model.add(ZeroPadding2D((1,1)))\n",
    "    model.add(Convolution2D(512, 3, 3, activation='relu'))\n",
    "    model.add(ZeroPadding2D((1,1)))\n",
    "    model.add(Convolution2D(512, 3, 3, activation='relu'))\n",
    "    model.add(ZeroPadding2D((1,1)))\n",
    "    model.add(Convolution2D(512, 3, 3, activation='relu'))\n",
    "    model.add(MaxPooling2D((2,2), strides=(2,2)))\n",
    "    model.add(ZeroPadding2D((1,1)))\n",
    "    model.add(Convolution2D(512, 3, 3, activation='relu'))\n",
    "    model.add(ZeroPadding2D((1,1)))\n",
    "    model.add(Convolution2D(512, 3, 3, activation='relu'))\n",
    "    model.add(ZeroPadding2D((1,1)))\n",
    "    model.add(Convolution2D(512, 3, 3, activation='relu'))\n",
    "    model.add(MaxPooling2D((2,2), strides=(2,2)))\n",
    "    model.add(Flatten())\n",
    "    model.add(Dense(4096, activation='relu'))\n",
    "    model.add(Dropout(0.5))\n",
    "    model.add(Dense(4096, activation='relu'))\n",
    "    f = h5py.File(weights_path)\n",
    "    for k in range(f.attrs['nb_layers']):\n",
    "        if k >= len(model.layers):\n",
    "            break\n",
    "        g = f['layer_{}'.format(k)]\n",
    "        weights = [g['param_{}'.format(p)] for p in range(g.attrs['nb_params'])]\n",
    "        model.layers[k].set_weights(weights)\n",
    "    return model"
   ]
  },
  {
   "cell_type": "code",
   "execution_count": null,
   "metadata": {
    "collapsed": true
   },
   "outputs": [],
   "source": [
    "\n",
    "img_width = 224 # use this for vgg16\n",
    "img_height = 224\n",
    "vgg_path = '/Users/gene/Learn/keras-rtst/vgg16_weights.h5'\n",
    "images_path = '/Users/gene/Code/of_v0.9.0_osx_release/addons/ofxTSNE_2/example-images/bin/data/animals'\n",
    "tsne_path = 'cnn_tsne_vis/data/tsne_points.txt'\n",
    "skip = 5 \t# use fewer images by skipping through directory more (1 = use all the images)\n",
    "\n",
    "\n",
    "\n",
    "# load model\n",
    "model = VGG_16(vgg_path)\n"
   ]
  },
  {
   "cell_type": "code",
   "execution_count": null,
   "metadata": {
    "collapsed": true
   },
   "outputs": [],
   "source": [
    "sgd = SGD(lr=0.1, decay=1e-6, momentum=0.9, nesterov=True)\n",
    "model.compile(optimizer=sgd, loss='categorical_crossentropy')\n",
    "\n",
    "# get images\n",
    "images = [f for f in listdir(images_path) if isfile(join(images_path, f))]\n",
    "images = [images[i] for i in range(1,len(images), skip)]\n",
    "\n",
    "# analyze images and grab activations\n",
    "activations = []\n",
    "for idx,image_path in enumerate(images):\n",
    "    print \"getting activations for %s %d/%d\" % (image_path,idx,len(images))\n",
    "    file_path = join(images_path,image_path)\n",
    "    image = get_image(file_path, img_width, img_height)\n",
    "    acts = model.predict(image)[0]\n",
    "    activations.append(acts)\n"
   ]
  },
  {
   "cell_type": "code",
   "execution_count": null,
   "metadata": {
    "collapsed": true
   },
   "outputs": [],
   "source": [
    "X = np.array(activations)\n",
    "tsne = TSNE(n_components=2, perplexity=30, verbose=2).fit_transform(X)\n",
    "\n",
    "\n",
    "# normalize t-sne points to {0,1}\n",
    "x, y = tsne[:,0], tsne[:,1]\n",
    "x = (x-np.min(x)) / (np.max(x) - np.min(x))\n",
    "y = (y-np.min(y)) / (np.max(y) - np.min(y))\n"
   ]
  },
  {
   "cell_type": "code",
   "execution_count": null,
   "metadata": {
    "collapsed": true
   },
   "outputs": [],
   "source": [
    "f = open(tsne_path, 'w')\n",
    "for idx,image_path in enumerate(images):\n",
    "    file_path = join(images_path,image_path)\n",
    "    line = \"%s, %f, %f\" % (file_path, x[idx], y[idx])\n",
    "    f.write('%s\\n'%line)\n",
    "\n",
    "f.close()\n",
    "print \"done! results saved to %s\"%tsne_path"
   ]
  }
 ],
 "metadata": {
  "kernelspec": {
   "display_name": "Python 2",
   "language": "python",
   "name": "python2"
  },
  "language_info": {
   "codemirror_mode": {
    "name": "ipython",
    "version": 2
   },
   "file_extension": ".py",
   "mimetype": "text/x-python",
   "name": "python",
   "nbconvert_exporter": "python",
   "pygments_lexer": "ipython2",
   "version": "2.7.11"
  }
 },
 "nbformat": 4,
 "nbformat_minor": 0
}
